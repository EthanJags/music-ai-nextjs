{
 "cells": [
  {
   "cell_type": "markdown",
   "metadata": {},
   "source": [
    "## This script partitions the input directory into a demoSounds directory and uploads the demo files to the database"
   ]
  },
  {
   "cell_type": "code",
   "execution_count": 4,
   "metadata": {},
   "outputs": [],
   "source": [
    "import os\n",
    "import shutil\n",
    "import random\n",
    "import math\n",
    "import os\n",
    "import librosa\n",
    "import numpy as np\n",
    "from scipy.spatial.distance import cdist\n",
    "from IPython.display import Audio, display"
   ]
  },
  {
   "cell_type": "code",
   "execution_count": 1,
   "metadata": {},
   "outputs": [
    {
     "name": "stdout",
     "output_type": "stream",
     "text": [
      "Moved A Model D D Minor 88 bpm.alc.ogg to demoSounds\n",
      "Moved Alley Kat Kit Melodic 03 140 bpm.alc.ogg to demoSounds\n",
      "Moved Jiggy With It Kit.adg.ogg to demoSounds\n",
      "Moved Grind Bass.adg.ogg to demoSounds\n",
      "Moved Evening Casual Bb Minor 06 89 bpm.alc.ogg to demoSounds\n",
      "Moved LoFi FM EP Chords A Minor 92bpm.alc.ogg to demoSounds\n",
      "Moved Dobbs Kit groove 07_96 bpm.alc.ogg to demoSounds\n",
      "Moved Move Up Kit Melodic 01 100 bpm.alc.ogg to demoSounds\n",
      "Moved Wah Soul Kit groove 01_86 bpm.alc.ogg to demoSounds\n",
      "Moved Canvas Kit groove 03_94 bpm.alc.ogg to demoSounds\n",
      "Moved A Trying Sine D Minor 86bpm.alc.ogg to demoSounds\n",
      "Moved Allee Gate Groove 3 105BPM.alc.ogg to demoSounds\n",
      "Moved Old School Stab 83bpm.alc.ogg to demoSounds\n",
      "Moved New Old School A Minor 2 83bpm.alc.ogg to demoSounds\n",
      "Moved Bang Ya Head Kit 02 92 bpm.alc.ogg to demoSounds\n",
      "Moved Creamy Voices.adg.ogg to demoSounds\n",
      "Moved Wonder Bass.adg.ogg to demoSounds\n",
      "Moved Vintage Madman Groove 1 78bpm.alc.ogg to demoSounds\n",
      "Moved 212 Kit Groove drums only 90 BPM.alc.ogg to demoSounds\n",
      "Moved Freak-o-saur Bb Minor 87 bpm.alc.ogg to demoSounds\n",
      "Moved Mallet Synth G# Minor 98 bpm.alc.ogg to demoSounds\n",
      "Moved Jiggy Groove 1 100 Bpm.alc.ogg to demoSounds\n",
      "Moved Fly Situation Kit groove 01_90 bpm.alc.ogg to demoSounds\n",
      "Moved Peace Groove 3 101bpm.alc.ogg to demoSounds\n",
      "Moved Muddy Whirl Piano.adg.ogg to demoSounds\n",
      "Moved Dirty Funk Lead E Minor 90bpm.alc.ogg to demoSounds\n",
      "Moved Peace Groove 1 97 Bpm.alc.ogg to demoSounds\n",
      "Moved Light Horn D Minor 88bpm.alc.ogg to demoSounds\n",
      "Moved Bang Ya Head Kit groove 02_94 bpm.alc.ogg to demoSounds\n",
      "Moved Twisted Organ.adg.ogg to demoSounds\n",
      "Moved Honey Pulp Lead.adg.ogg to demoSounds\n",
      "Moved Blueprint Groove 1 88 BPM.alc.ogg to demoSounds\n",
      "Moved 212 Kit Melodic 02 118 bpm.alc.ogg to demoSounds\n",
      "Moved Dirty Back Roads E Minor 86bpm.alc.ogg to demoSounds\n",
      "\n",
      "Moved 34 files (5% of total) to demoSounds\n"
     ]
    }
   ],
   "source": [
    "\n",
    "# Create demoSounds directory if it doesn't exist\n",
    "demo_dir = 'demoSounds'\n",
    "if not os.path.exists(demo_dir):\n",
    "    os.makedirs(demo_dir)\n",
    "\n",
    "# Get list of files from inputs directory\n",
    "input_dir = 'inputs'\n",
    "sound_files = []\n",
    "for root, dirs, files in os.walk(input_dir):\n",
    "    for file in files:\n",
    "        if file.endswith(('.ogg')):  # Add other audio extensions if needed\n",
    "            sound_files.append(os.path.join(root, file))\n",
    "\n",
    "# Calculate number of files to move (5%)\n",
    "num_files_to_move = math.ceil(len(sound_files) * 0.05)\n",
    "\n",
    "# Randomly select files to move\n",
    "files_to_move = random.sample(sound_files, num_files_to_move)\n",
    "\n",
    "# Move selected files to demoSounds\n",
    "for file_path in files_to_move:\n",
    "    file_name = os.path.basename(file_path)\n",
    "    destination = os.path.join(demo_dir, file_name)\n",
    "    shutil.move(file_path, destination)\n",
    "    print(f\"Moved {file_name} to {demo_dir}\")\n",
    "\n",
    "print(f\"\\nMoved {num_files_to_move} files ({5}% of total) to {demo_dir}\")\n"
   ]
  },
  {
   "cell_type": "markdown",
   "metadata": {},
   "source": [
    "Upload demo files to mongoDB"
   ]
  },
  {
   "cell_type": "code",
   "execution_count": 15,
   "metadata": {},
   "outputs": [],
   "source": [
    "def load_audio_features(file_path, n_mfcc=13):\n",
    "    \"\"\"\n",
    "    Load an audio file and extract MFCC features.\n",
    "    \"\"\"\n",
    "    y, sr = librosa.load(file_path, sr=None)\n",
    "    # Extract MFCC features\n",
    "    mfcc = librosa.feature.mfcc(y=y, sr=sr, n_mfcc=n_mfcc)\n",
    "    # Compute the mean of the MFCCs over time\n",
    "    mfcc_mean = np.mean(mfcc.T, axis=0)\n",
    "    return mfcc_mean\n",
    "\n",
    "def get_all_audio_features(directory, n_mfcc=13):\n",
    "    \"\"\"\n",
    "    Load all .ogg files in the directory and extract their MFCC features.\n",
    "    \"\"\"\n",
    "    audio_features = []\n",
    "    for filename in os.listdir(directory):\n",
    "        if filename.endswith('.ogg'):\n",
    "            file_path = os.path.join(directory, filename)\n",
    "            print(f\"Processing {filename}... ({list(os.listdir(directory)).index(filename) + 1}/{len(os.listdir(directory))})\")\n",
    "            features = load_audio_features(file_path, n_mfcc)\n",
    "            audio_features.append({\n",
    "                \"file_path\": file_path,\n",
    "                \"title\": filename,\n",
    "                \"embedding\": features.tolist()\n",
    "            })\n",
    "    return audio_features"
   ]
  },
  {
   "cell_type": "code",
   "execution_count": 16,
   "metadata": {},
   "outputs": [
    {
     "name": "stdout",
     "output_type": "stream",
     "text": [
      "Processing Jiggy Groove 1 100 Bpm.alc.ogg... (1/34)\n",
      "Processing 212 Kit Melodic 02 118 bpm.alc.ogg... (2/34)\n",
      "Processing Move Up Kit Melodic 01 100 bpm.alc.ogg... (3/34)\n",
      "Processing Evening Casual Bb Minor 06 89 bpm.alc.ogg... (4/34)\n",
      "Processing Honey Pulp Lead.adg.ogg... (5/34)\n",
      "Processing Wah Soul Kit groove 01_86 bpm.alc.ogg... (6/34)\n",
      "Processing A Trying Sine D Minor 86bpm.alc.ogg... (7/34)\n",
      "Processing Bang Ya Head Kit 02 92 bpm.alc.ogg... (8/34)\n",
      "Processing Light Horn D Minor 88bpm.alc.ogg... (9/34)\n",
      "Processing Grind Bass.adg.ogg... (10/34)\n",
      "Processing Canvas Kit groove 03_94 bpm.alc.ogg... (11/34)\n",
      "Processing Mallet Synth G# Minor 98 bpm.alc.ogg... (12/34)\n",
      "Processing Freak-o-saur Bb Minor 87 bpm.alc.ogg... (13/34)\n",
      "Processing Twisted Organ.adg.ogg... (14/34)\n",
      "Processing Dirty Funk Lead E Minor 90bpm.alc.ogg... (15/34)\n",
      "Processing Allee Gate Groove 3 105BPM.alc.ogg... (16/34)\n",
      "Processing Creamy Voices.adg.ogg... (17/34)\n",
      "Processing Muddy Whirl Piano.adg.ogg... (18/34)\n",
      "Processing 212 Kit Groove drums only 90 BPM.alc.ogg... (19/34)\n",
      "Processing Bang Ya Head Kit groove 02_94 bpm.alc.ogg... (20/34)\n",
      "Processing Wonder Bass.adg.ogg... (21/34)\n",
      "Processing Peace Groove 1 97 Bpm.alc.ogg... (22/34)\n",
      "Processing Vintage Madman Groove 1 78bpm.alc.ogg... (23/34)\n",
      "Processing Old School Stab 83bpm.alc.ogg... (24/34)\n",
      "Processing LoFi FM EP Chords A Minor 92bpm.alc.ogg... (25/34)\n",
      "Processing Alley Kat Kit Melodic 03 140 bpm.alc.ogg... (26/34)\n",
      "Processing Fly Situation Kit groove 01_90 bpm.alc.ogg... (27/34)\n",
      "Processing Dobbs Kit groove 07_96 bpm.alc.ogg... (28/34)\n",
      "Processing New Old School A Minor 2 83bpm.alc.ogg... (29/34)\n",
      "Processing Blueprint Groove 1 88 BPM.alc.ogg... (30/34)\n",
      "Processing A Model D D Minor 88 bpm.alc.ogg... (31/34)\n",
      "Processing Jiggy With It Kit.adg.ogg... (32/34)\n",
      "Processing Dirty Back Roads E Minor 86bpm.alc.ogg... (33/34)\n",
      "Processing Peace Groove 3 101bpm.alc.ogg... (34/34)\n"
     ]
    }
   ],
   "source": [
    "# Set your musicML directory path\n",
    "musicml_directory = './demoSounds'  # Replace with your actual directory path\n",
    "\n",
    "# Get features for all demo files\n",
    "demo_features = get_all_audio_features(musicml_directory)"
   ]
  },
  {
   "cell_type": "code",
   "execution_count": 17,
   "metadata": {},
   "outputs": [
    {
     "name": "stdout",
     "output_type": "stream",
     "text": [
      "Demo sounds uploaded successfully!\n"
     ]
    }
   ],
   "source": [
    "# upload the files and features to the database\n",
    "# SCHEMA:\n",
    "# {\n",
    "#     \"filename\": \"string\",\n",
    "#     \"file_path\": \"string\",\n",
    "#     \"features\": \"array\"\n",
    "# }\n",
    "from pymongo import MongoClient\n",
    "import gridfs\n",
    "\n",
    "# Connect to MongoDB\n",
    "client = MongoClient(\"mongodb://localhost:27017/\")\n",
    "db = client[\"soundDB\"]\n",
    "fs = gridfs.GridFS(db)\n",
    "\n",
    "# Upload files and save metadata\n",
    "for sound in demo_features:\n",
    "    with open(sound[\"file_path\"], \"rb\") as file:\n",
    "        # Save the file to GridFS\n",
    "        file_id = fs.put(file, filename=sound[\"file_path\"].split(\"/\")[-1])\n",
    "\n",
    "        # Store metadata in the demo_sounds collection\n",
    "        db.demo_sounds.insert_one({\n",
    "            \"file_id\": file_id,\n",
    "            \"title\": sound[\"title\"],\n",
    "            \"embedding\": sound[\"embedding\"]\n",
    "        })\n",
    "\n",
    "print(\"Demo sounds uploaded successfully!\")"
   ]
  },
  {
   "cell_type": "code",
   "execution_count": null,
   "metadata": {},
   "outputs": [],
   "source": []
  }
 ],
 "metadata": {
  "kernelspec": {
   "display_name": "Python 3",
   "language": "python",
   "name": "python3"
  },
  "language_info": {
   "codemirror_mode": {
    "name": "ipython",
    "version": 3
   },
   "file_extension": ".py",
   "mimetype": "text/x-python",
   "name": "python",
   "nbconvert_exporter": "python",
   "pygments_lexer": "ipython3",
   "version": "3.10.16"
  }
 },
 "nbformat": 4,
 "nbformat_minor": 2
}
